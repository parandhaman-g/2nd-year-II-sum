{
 "cells": [
  {
   "cell_type": "code",
   "execution_count": 10,
   "id": "e26dd82a-f1b7-4699-aa87-307fcc5c4da9",
   "metadata": {},
   "outputs": [],
   "source": [
    "import cv2 as cv\n",
    "import matplotlib.pyplot as plt\n",
    "import numpy as np"
   ]
  },
  {
   "cell_type": "code",
   "execution_count": 11,
   "id": "645bfb60-ba53-47f0-8e99-ff6099ed4cbd",
   "metadata": {},
   "outputs": [
    {
     "data": {
      "text/plain": [
       "array([[[ 40,  23,   4],\n",
       "        [ 48,  27,   6],\n",
       "        [ 59,  32,  12],\n",
       "        ...,\n",
       "        [ 57,  37,   6],\n",
       "        [ 57,  37,   6],\n",
       "        [ 57,  37,   6]],\n",
       "\n",
       "       [[ 45,  25,   7],\n",
       "        [ 50,  28,  10],\n",
       "        [ 58,  33,  13],\n",
       "        ...,\n",
       "        [ 57,  37,   6],\n",
       "        [ 57,  37,   6],\n",
       "        [ 57,  37,   6]],\n",
       "\n",
       "       [[ 49,  29,  11],\n",
       "        [ 53,  31,  13],\n",
       "        [ 58,  33,  13],\n",
       "        ...,\n",
       "        [ 56,  37,   4],\n",
       "        [ 56,  37,   4],\n",
       "        [ 56,  37,   4]],\n",
       "\n",
       "       ...,\n",
       "\n",
       "       [[ 54,  29,  27],\n",
       "        [ 57,  31, 101],\n",
       "        [ 52,  46, 171],\n",
       "        ...,\n",
       "        [ 62,  41,  10],\n",
       "        [ 61,  40,   9],\n",
       "        [ 60,  39,   8]],\n",
       "\n",
       "       [[ 57,  38,  63],\n",
       "        [ 57,  39, 132],\n",
       "        [ 51,  51, 195],\n",
       "        ...,\n",
       "        [ 62,  41,  10],\n",
       "        [ 61,  40,   9],\n",
       "        [ 60,  39,   8]],\n",
       "\n",
       "       [[ 59,  49,  96],\n",
       "        [ 58,  48, 162],\n",
       "        [ 49,  54, 216],\n",
       "        ...,\n",
       "        [ 62,  41,  10],\n",
       "        [ 61,  40,   9],\n",
       "        [ 60,  39,   8]]], dtype=uint8)"
      ]
     },
     "execution_count": 11,
     "metadata": {},
     "output_type": "execute_result"
    }
   ],
   "source": [
    "img=cv.imread(\"C:/Users/admin/Pictures/cv/butterfly1.jfif\")\n",
    "img"
   ]
  },
  {
   "cell_type": "code",
   "execution_count": 12,
   "id": "affca633-81e5-4e4b-81d8-22922df8c0f7",
   "metadata": {},
   "outputs": [
    {
     "data": {
      "text/plain": [
       "array([[[  4,  23,  40],\n",
       "        [  6,  27,  48],\n",
       "        [ 12,  32,  59],\n",
       "        ...,\n",
       "        [  6,  37,  57],\n",
       "        [  6,  37,  57],\n",
       "        [  6,  37,  57]],\n",
       "\n",
       "       [[  7,  25,  45],\n",
       "        [ 10,  28,  50],\n",
       "        [ 13,  33,  58],\n",
       "        ...,\n",
       "        [  6,  37,  57],\n",
       "        [  6,  37,  57],\n",
       "        [  6,  37,  57]],\n",
       "\n",
       "       [[ 11,  29,  49],\n",
       "        [ 13,  31,  53],\n",
       "        [ 13,  33,  58],\n",
       "        ...,\n",
       "        [  4,  37,  56],\n",
       "        [  4,  37,  56],\n",
       "        [  4,  37,  56]],\n",
       "\n",
       "       ...,\n",
       "\n",
       "       [[ 27,  29,  54],\n",
       "        [101,  31,  57],\n",
       "        [171,  46,  52],\n",
       "        ...,\n",
       "        [ 10,  41,  62],\n",
       "        [  9,  40,  61],\n",
       "        [  8,  39,  60]],\n",
       "\n",
       "       [[ 63,  38,  57],\n",
       "        [132,  39,  57],\n",
       "        [195,  51,  51],\n",
       "        ...,\n",
       "        [ 10,  41,  62],\n",
       "        [  9,  40,  61],\n",
       "        [  8,  39,  60]],\n",
       "\n",
       "       [[ 96,  49,  59],\n",
       "        [162,  48,  58],\n",
       "        [216,  54,  49],\n",
       "        ...,\n",
       "        [ 10,  41,  62],\n",
       "        [  9,  40,  61],\n",
       "        [  8,  39,  60]]], dtype=uint8)"
      ]
     },
     "execution_count": 12,
     "metadata": {},
     "output_type": "execute_result"
    }
   ],
   "source": [
    "mortrans=cv.cvtColor(img,cv.COLOR_BGR2RGB)\n",
    "mortrans"
   ]
  },
  {
   "cell_type": "code",
   "execution_count": 13,
   "id": "fee00daa-1b7f-4366-bc9d-69c1e467b7a0",
   "metadata": {},
   "outputs": [],
   "source": [
    "kernal=np.ones((7,7),np.uint8)"
   ]
  },
  {
   "cell_type": "code",
   "execution_count": 14,
   "id": "287b237d-4528-484c-b07d-6c44879b927b",
   "metadata": {},
   "outputs": [],
   "source": [
    "BLACKHAT=cv.morphologyEx(mortrans,cv.MORPH_BLACKHAT,kernal)"
   ]
  },
  {
   "cell_type": "code",
   "execution_count": null,
   "id": "2767e5b3-ca0e-4b2a-b98a-86d6559cbe60",
   "metadata": {},
   "outputs": [],
   "source": [
    "cv.imshow(\"BLACKHAT\",BLACKHAT)\n",
    "cv.imshow(\"image\",img)\n",
    "cv.waitKey(0)\n",
    "cv.destroyAllWindows()"
   ]
  },
  {
   "cell_type": "code",
   "execution_count": null,
   "id": "201576af-e471-4779-9381-73c1a733e076",
   "metadata": {},
   "outputs": [],
   "source": []
  }
 ],
 "metadata": {
  "kernelspec": {
   "display_name": "Python 3 (ipykernel)",
   "language": "python",
   "name": "python3"
  },
  "language_info": {
   "codemirror_mode": {
    "name": "ipython",
    "version": 3
   },
   "file_extension": ".py",
   "mimetype": "text/x-python",
   "name": "python",
   "nbconvert_exporter": "python",
   "pygments_lexer": "ipython3",
   "version": "3.9.18"
  }
 },
 "nbformat": 4,
 "nbformat_minor": 5
}

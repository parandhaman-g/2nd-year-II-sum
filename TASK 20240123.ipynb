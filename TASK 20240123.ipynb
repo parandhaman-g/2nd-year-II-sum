{
 "cells": [
  {
   "cell_type": "code",
   "execution_count": 2,
   "id": "a70ce0b9-fe0a-4ec5-bb14-147298a649be",
   "metadata": {},
   "outputs": [],
   "source": [
    "import cv2"
   ]
  },
  {
   "cell_type": "code",
   "execution_count": 3,
   "id": "efa3427b-64b8-4a97-b915-9ac7c125a7f8",
   "metadata": {},
   "outputs": [],
   "source": [
    "im1=cv2.imread(\"C:/Users/admin/Pictures/cv/jelly fish.jpg\")\n",
    "im2=cv2.imread(\"C:/Users/admin/Pictures/cv/jelly fish.jpg\",0)"
   ]
  },
  {
   "cell_type": "code",
   "execution_count": 4,
   "id": "9980a13f-03b2-4175-a939-a43569896b87",
   "metadata": {},
   "outputs": [
    {
     "data": {
      "text/plain": [
       "array([[[148,  51,   1],\n",
       "        [148,  51,   1],\n",
       "        [148,  51,   1],\n",
       "        ...,\n",
       "        [115,  37,   0],\n",
       "        [115,  37,   0],\n",
       "        [115,  37,   0]],\n",
       "\n",
       "       [[150,  51,   1],\n",
       "        [150,  51,   1],\n",
       "        [150,  51,   1],\n",
       "        ...,\n",
       "        [115,  37,   0],\n",
       "        [115,  37,   0],\n",
       "        [115,  37,   0]],\n",
       "\n",
       "       [[150,  51,   1],\n",
       "        [150,  51,   1],\n",
       "        [150,  51,   1],\n",
       "        ...,\n",
       "        [115,  37,   0],\n",
       "        [115,  37,   0],\n",
       "        [115,  37,   0]],\n",
       "\n",
       "       ...,\n",
       "\n",
       "       [[112,  35,   2],\n",
       "        [112,  35,   2],\n",
       "        [112,  35,   2],\n",
       "        ...,\n",
       "        [251, 168,   6],\n",
       "        [245, 160,   4],\n",
       "        [240, 154,   0]],\n",
       "\n",
       "       [[112,  35,   2],\n",
       "        [112,  35,   2],\n",
       "        [112,  35,   2],\n",
       "        ...,\n",
       "        [251, 169,   4],\n",
       "        [244, 162,   3],\n",
       "        [238, 155,   0]],\n",
       "\n",
       "       [[112,  35,   2],\n",
       "        [112,  35,   2],\n",
       "        [112,  35,   2],\n",
       "        ...,\n",
       "        [251, 169,   4],\n",
       "        [243, 162,   1],\n",
       "        [238, 156,   0]]], dtype=uint8)"
      ]
     },
     "execution_count": 4,
     "metadata": {},
     "output_type": "execute_result"
    }
   ],
   "source": [
    "im1\n"
   ]
  },
  {
   "cell_type": "code",
   "execution_count": 5,
   "id": "9194990e-51f4-46b1-8367-59c800007caf",
   "metadata": {},
   "outputs": [
    {
     "data": {
      "text/plain": [
       "array([[ 47,  47,  47, ...,  35,  35,  35],\n",
       "       [ 47,  47,  47, ...,  35,  35,  35],\n",
       "       [ 47,  47,  47, ...,  35,  35,  35],\n",
       "       ...,\n",
       "       [ 34,  34,  34, ..., 129, 123, 118],\n",
       "       [ 34,  34,  34, ..., 129, 124, 118],\n",
       "       [ 34,  34,  34, ..., 129, 123, 118]], dtype=uint8)"
      ]
     },
     "execution_count": 5,
     "metadata": {},
     "output_type": "execute_result"
    }
   ],
   "source": [
    "im2\n"
   ]
  },
  {
   "cell_type": "code",
   "execution_count": 6,
   "id": "638a6bd2-a09e-4baa-8cc7-e7218be41e56",
   "metadata": {},
   "outputs": [
    {
     "data": {
      "text/plain": [
       "<function destroyAllWindows>"
      ]
     },
     "execution_count": 6,
     "metadata": {},
     "output_type": "execute_result"
    }
   ],
   "source": [
    "cv2.imshow(\"w3\",im1)\n",
    "cv2.waitKey(10)\n",
    "cv2.destroyAllWindows"
   ]
  },
  {
   "cell_type": "code",
   "execution_count": 7,
   "id": "0c0f0176-52e1-4abb-9c91-d1d04a59cfef",
   "metadata": {},
   "outputs": [
    {
     "data": {
      "text/plain": [
       "<function destroyAllWindows>"
      ]
     },
     "execution_count": 7,
     "metadata": {},
     "output_type": "execute_result"
    }
   ],
   "source": [
    "cv2.imshow(\"w4\",im2)\n",
    "cv2.waitKey(10)\n",
    "cv2.destroyAllWindows"
   ]
  },
  {
   "cell_type": "code",
   "execution_count": 8,
   "id": "67e4eb7e-5d72-4f08-84fe-936fe0063879",
   "metadata": {},
   "outputs": [
    {
     "data": {
      "text/plain": [
       "True"
      ]
     },
     "execution_count": 8,
     "metadata": {},
     "output_type": "execute_result"
    }
   ],
   "source": [
    "cv2.imwrite(\"C:/Users/admin/Pictures/cv/pcv/grey jelly.jpg\",im1)"
   ]
  },
  {
   "cell_type": "code",
   "execution_count": 9,
   "id": "8d31445c-43af-4f13-a2ce-101fbca61f11",
   "metadata": {},
   "outputs": [
    {
     "data": {
      "text/plain": [
       "True"
      ]
     },
     "execution_count": 9,
     "metadata": {},
     "output_type": "execute_result"
    }
   ],
   "source": [
    "cv2.imwrite(\"C:/Users/admin/Pictures/cv/pcv/grey jelly.jpg\",im2)"
   ]
  },
  {
   "cell_type": "code",
   "execution_count": null,
   "id": "e4ec58ba-2932-43cf-911a-6a90e662af8f",
   "metadata": {},
   "outputs": [],
   "source": []
  }
 ],
 "metadata": {
  "kernelspec": {
   "display_name": "Python 3 (ipykernel)",
   "language": "python",
   "name": "python3"
  },
  "language_info": {
   "codemirror_mode": {
    "name": "ipython",
    "version": 3
   },
   "file_extension": ".py",
   "mimetype": "text/x-python",
   "name": "python",
   "nbconvert_exporter": "python",
   "pygments_lexer": "ipython3",
   "version": "3.9.18"
  }
 },
 "nbformat": 4,
 "nbformat_minor": 5
}

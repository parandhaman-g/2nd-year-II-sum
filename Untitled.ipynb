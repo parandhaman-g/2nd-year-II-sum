{
 "cells": [
  {
   "cell_type": "code",
   "execution_count": 1,
   "id": "f3e15ca6-a84e-465c-b574-5d54e7ea2e88",
   "metadata": {},
   "outputs": [],
   "source": [
    "import cv2 as cv,imutils as im"
   ]
  },
  {
   "cell_type": "markdown",
   "id": "18379ba4-08ce-4a36-9987-446184f946fc",
   "metadata": {},
   "source": [
    "# HOG PERSON DETECTOR"
   ]
  },
  {
   "cell_type": "code",
   "execution_count": 13,
   "id": "4818674f-c3fc-4f86-a7b8-21a1ea72ed22",
   "metadata": {},
   "outputs": [
    {
     "data": {
      "text/plain": [
       "(518, 920, 3)"
      ]
     },
     "execution_count": 13,
     "metadata": {},
     "output_type": "execute_result"
    }
   ],
   "source": [
    "img=cv.imread(\"C:/Users/admin/Pictures/cv/peeky blinders.jpg\")\n",
    "img.shape"
   ]
  },
  {
   "cell_type": "code",
   "execution_count": 5,
   "id": "52991fb1-48db-4a1a-b28b-a1dcd89d6506",
   "metadata": {},
   "outputs": [
    {
     "data": {
      "text/plain": [
       "< cv2.HOGDescriptor 0000014F0342A230>"
      ]
     },
     "execution_count": 5,
     "metadata": {},
     "output_type": "execute_result"
    }
   ],
   "source": [
    "hog=cv.HOGDescriptor()\n",
    "hog.setSVMDetector(cv.HOGDescriptor_getDefaultPeopleDetector())\n",
    "hog"
   ]
  },
  {
   "cell_type": "code",
   "execution_count": 14,
   "id": "2318c43a-c693-4fa2-9194-68cb9ac47ae0",
   "metadata": {},
   "outputs": [
    {
     "data": {
      "text/plain": [
       "(225, 400, 3)"
      ]
     },
     "execution_count": 14,
     "metadata": {},
     "output_type": "execute_result"
    }
   ],
   "source": [
    "image=im.resize(img,width=min(400,img.shape[1]))\n",
    "image.shape\n"
   ]
  },
  {
   "cell_type": "code",
   "execution_count": 19,
   "id": "c7a39d78-edbe-48d7-8c10-0d96e5758053",
   "metadata": {},
   "outputs": [],
   "source": [
    "def disy(x,y):\n",
    "    cv.imshow(\"ds\",x)\n",
    "    cv.imshow(\"shg\",y)\n",
    "    cv.waitKey(0)\n",
    "    cv.destroyAllWindows()"
   ]
  },
  {
   "cell_type": "code",
   "execution_count": 27,
   "id": "a33ed9be-085d-41ef-8fe2-e6515e2b417b",
   "metadata": {},
   "outputs": [
    {
     "data": {
      "text/plain": [
       "array([[147,  29,  64, 128]])"
      ]
     },
     "execution_count": 27,
     "metadata": {},
     "output_type": "execute_result"
    }
   ],
   "source": [
    "(regions,img)=hog.detectMultiScale(image,winStride=(1,1),padding=(20,20),scale=1.0)\n",
    "regions"
   ]
  },
  {
   "cell_type": "code",
   "execution_count": 28,
   "id": "96044106-fb93-4988-a552-d4e6b81cc1c9",
   "metadata": {},
   "outputs": [],
   "source": [
    "for(x,y,w,h)in regions:\n",
    "    cv.rectangle(image,(x,y),(x+w,y+h),(0,205,0),3)"
   ]
  },
  {
   "cell_type": "code",
   "execution_count": 29,
   "id": "ab666c18-2bfa-4a80-8519-356834a2db81",
   "metadata": {},
   "outputs": [],
   "source": [
    "disy(image,image)"
   ]
  },
  {
   "cell_type": "code",
   "execution_count": null,
   "id": "d68ff98d-ec6a-4b52-a605-71b2a04cb8a7",
   "metadata": {},
   "outputs": [],
   "source": []
  }
 ],
 "metadata": {
  "kernelspec": {
   "display_name": "Python 3 (ipykernel)",
   "language": "python",
   "name": "python3"
  },
  "language_info": {
   "codemirror_mode": {
    "name": "ipython",
    "version": 3
   },
   "file_extension": ".py",
   "mimetype": "text/x-python",
   "name": "python",
   "nbconvert_exporter": "python",
   "pygments_lexer": "ipython3",
   "version": "3.9.18"
  }
 },
 "nbformat": 4,
 "nbformat_minor": 5
}

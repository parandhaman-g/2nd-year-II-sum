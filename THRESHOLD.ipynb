{
 "cells": [
  {
   "cell_type": "code",
   "execution_count": 1,
   "id": "3d093bd1-82ae-485d-8405-556766a5812c",
   "metadata": {},
   "outputs": [],
   "source": [
    "import cv2 \n",
    "import numpy as np"
   ]
  },
  {
   "cell_type": "code",
   "execution_count": 2,
   "id": "36d6b73c-f5b2-43a8-9ccb-188b3aca0863",
   "metadata": {},
   "outputs": [],
   "source": [
    "im1=cv2.imread(\"C:/Users/admin/Pictures/cv/nature 1.jpg\")"
   ]
  },
  {
   "cell_type": "code",
   "execution_count": 9,
   "id": "ea69c3ef-e155-4d4c-adec-3c90fa6de443",
   "metadata": {},
   "outputs": [
    {
     "data": {
      "text/plain": [
       "<function destroyAllWindows>"
      ]
     },
     "execution_count": 9,
     "metadata": {},
     "output_type": "execute_result"
    }
   ],
   "source": [
    "cv2.imshow(\"img\",im1)\n",
    "cv2.waitKey(5)\n",
    "cv2.destroyAllWindows"
   ]
  },
  {
   "cell_type": "code",
   "execution_count": 3,
   "id": "49f577f4-3201-4d0e-8513-18df4ae1bfa6",
   "metadata": {},
   "outputs": [],
   "source": [
    "ret,thres0=cv2.threshold(im1,197,193,cv2.THRESH_BINARY)\n",
    "ret,thres1=cv2.threshold(im1,197,193,cv2.THRESH_BINARY_INV)\n",
    "ret,thres2=cv2.threshold(im1,197,193,cv2.THRESH_TRUNC)\n",
    "ret,thres3=cv2.threshold(im1,197,193,cv2.THRESH_TOZERO)\n",
    "ret,thres4=cv2.threshold(im1,197,193,cv2.THRESH_TOZERO_INV)"
   ]
  },
  {
   "cell_type": "code",
   "execution_count": 5,
   "id": "33895b7d-5277-49ff-8a82-5cb86a8bd2fc",
   "metadata": {},
   "outputs": [
    {
     "data": {
      "text/plain": [
       "<function destroyAllWindows>"
      ]
     },
     "execution_count": 5,
     "metadata": {},
     "output_type": "execute_result"
    }
   ],
   "source": [
    "cv2.imshow(\"thresh0\",thres0)\n",
    "cv2.imshow(\"thresh1\",thres1)\n",
    "cv2.imshow(\"thresh2\",thres2)\n",
    "cv2.imshow(\"thresh3\",thres3)\n",
    "cv2.imshow(\"thresh4\",thres4)\n",
    "cv2.waitKey(0)\n",
    "cv2.destroyAllWindows"
   ]
  },
  {
   "cell_type": "code",
   "execution_count": null,
   "id": "fe57a8fd-ceb8-4a60-a8b8-1ad4e87920e8",
   "metadata": {},
   "outputs": [],
   "source": []
  }
 ],
 "metadata": {
  "kernelspec": {
   "display_name": "Python 3 (ipykernel)",
   "language": "python",
   "name": "python3"
  },
  "language_info": {
   "codemirror_mode": {
    "name": "ipython",
    "version": 3
   },
   "file_extension": ".py",
   "mimetype": "text/x-python",
   "name": "python",
   "nbconvert_exporter": "python",
   "pygments_lexer": "ipython3",
   "version": "3.9.18"
  }
 },
 "nbformat": 4,
 "nbformat_minor": 5
}

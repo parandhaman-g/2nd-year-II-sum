{
 "cells": [
  {
   "cell_type": "code",
   "execution_count": 1,
   "id": "c70710a3-26c0-4669-87cb-4bca77add336",
   "metadata": {},
   "outputs": [],
   "source": [
    "import  cv2 as cv\n",
    "import matplotlib as plt"
   ]
  },
  {
   "cell_type": "code",
   "execution_count": 21,
   "id": "4c7ca3b3-f076-424c-9cd4-7fce1f57cd1b",
   "metadata": {},
   "outputs": [],
   "source": [
    "im1=cv.imread(\"C:/Users/admin/Pictures/cv/OIP (1).jpg\",0)\n",
    "img1=cv.imread(\"C:/Users/admin/Pictures/cv/OIP (1).jpg\")"
   ]
  },
  {
   "cell_type": "markdown",
   "id": "46b6119b-ecb7-457d-8dcf-e202f9deabe7",
   "metadata": {},
   "source": [
    "## CANNY EDGE"
   ]
  },
  {
   "cell_type": "code",
   "execution_count": 22,
   "id": "9544d3b9-50f5-45ac-8511-58649b560455",
   "metadata": {},
   "outputs": [],
   "source": [
    "canny=cv.Canny(img1,40,200)"
   ]
  },
  {
   "cell_type": "code",
   "execution_count": 23,
   "id": "b3d5ceb3-fdde-4494-822f-108af2c8fa3b",
   "metadata": {},
   "outputs": [],
   "source": [
    "cv.imshow(\"qwerty\",im1)\n",
    "cv.imshow(\"qwerty\",img1)\n",
    "cv.waitKey(0)\n",
    "cv.destroyAllWindows()"
   ]
  },
  {
   "cell_type": "code",
   "execution_count": null,
   "id": "a7d734e2-5734-426b-b560-11529c7d6d46",
   "metadata": {},
   "outputs": [],
   "source": []
  }
 ],
 "metadata": {
  "kernelspec": {
   "display_name": "Python 3 (ipykernel)",
   "language": "python",
   "name": "python3"
  },
  "language_info": {
   "codemirror_mode": {
    "name": "ipython",
    "version": 3
   },
   "file_extension": ".py",
   "mimetype": "text/x-python",
   "name": "python",
   "nbconvert_exporter": "python",
   "pygments_lexer": "ipython3",
   "version": "3.9.18"
  }
 },
 "nbformat": 4,
 "nbformat_minor": 5
}

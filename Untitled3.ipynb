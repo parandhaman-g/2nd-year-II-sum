{
 "cells": [
  {
   "cell_type": "code",
   "execution_count": 2,
   "id": "b0b5e3cd-7352-42ad-81ef-d20e8696eccc",
   "metadata": {},
   "outputs": [],
   "source": [
    "import cv2 as cv\n",
    "import numpy as np"
   ]
  },
  {
   "cell_type": "code",
   "execution_count": 4,
   "id": "8bbeb032-978d-4765-9103-84f0a1443c7b",
   "metadata": {},
   "outputs": [
    {
     "data": {
      "text/plain": [
       "< cv2.CascadeClassifier 000002190D50EFB0>"
      ]
     },
     "execution_count": 4,
     "metadata": {},
     "output_type": "execute_result"
    }
   ],
   "source": [
    "cv.CascadeClassifier(cv.data.haarcascades+\"C:/Users/admin/Downloads/haarcascade_frontalface_default.xml\")\n",
    "cv.CascadeClassifier(cv.data.haarcascades+\"C:/Users/admin/Downloads/haarcascade_eye.xml\")"
   ]
  },
  {
   "cell_type": "markdown",
   "id": "a50b97cf-2588-4fba-b0ac-62c1c58772f2",
   "metadata": {},
   "source": [
    "# READ IMAGE"
   ]
  },
  {
   "cell_type": "code",
   "execution_count": 10,
   "id": "4f2d1f65-4892-4f6a-bfc2-40bcf090555e",
   "metadata": {},
   "outputs": [],
   "source": [
    "img=cv.imread(\"C:/Users/admin/Pictures/cv/BMW CYAN.jpg\")\n",
    "gimg=cv.cvtColor(img,cv.COLOR_BGR2GRAY)"
   ]
  },
  {
   "cell_type": "markdown",
   "id": "ed0a522e-ed03-4552-bdd9-94fc000049a5",
   "metadata": {},
   "source": [
    "# FACE DETECTION"
   ]
  },
  {
   "cell_type": "code",
   "execution_count": 11,
   "id": "f435d1e2-c9db-405d-9312-3381cc73e333",
   "metadata": {},
   "outputs": [
    {
     "ename": "NameError",
     "evalue": "name 'fd' is not defined",
     "output_type": "error",
     "traceback": [
      "\u001b[1;31m---------------------------------------------------------------------------\u001b[0m",
      "\u001b[1;31mNameError\u001b[0m                                 Traceback (most recent call last)",
      "Cell \u001b[1;32mIn[11], line 1\u001b[0m\n\u001b[1;32m----> 1\u001b[0m faces\u001b[38;5;241m=\u001b[39m\u001b[43mfd\u001b[49m\u001b[38;5;241m.\u001b[39mdetectMulticale(gray,scaleFactor\u001b[38;5;241m=\u001b[39m\u001b[38;5;241m1.1\u001b[39m,minNeighbors\u001b[38;5;241m=\u001b[39m\u001b[38;5;241m1\u001b[39m,minSize\u001b[38;5;241m=\u001b[39m(\u001b[38;5;241m30\u001b[39m,\u001b[38;5;241m10\u001b[39m))\n\u001b[0;32m      2\u001b[0m \u001b[38;5;28;01mfor\u001b[39;00m(x,y,w,h) \u001b[38;5;129;01min\u001b[39;00m faces:\n\u001b[0;32m      3\u001b[0m     cv\u001b[38;5;241m.\u001b[39mrectangle(img,(x,y),(x\u001b[38;5;241m+\u001b[39mw,y\u001b[38;5;241m+\u001b[39mh),(\u001b[38;5;241m0\u001b[39m,\u001b[38;5;241m255\u001b[39m,\u001b[38;5;241m0\u001b[39m),)\n",
      "\u001b[1;31mNameError\u001b[0m: name 'fd' is not defined"
     ]
    }
   ],
   "source": [
    "faces=fd.detectMulticale(gray,scaleFactor=1.1,minNeighbors=1,minSize=(30,10))\n",
    "for(x,y,w,h) in faces:\n",
    "    cv.rectangle(img,(x,y),(x+w,y+h),(0,255,0),)"
   ]
  },
  {
   "cell_type": "code",
   "execution_count": null,
   "id": "e48b3c55-0f1c-425b-a8da-3d5fa192762c",
   "metadata": {},
   "outputs": [],
   "source": []
  }
 ],
 "metadata": {
  "kernelspec": {
   "display_name": "Python 3 (ipykernel)",
   "language": "python",
   "name": "python3"
  },
  "language_info": {
   "codemirror_mode": {
    "name": "ipython",
    "version": 3
   },
   "file_extension": ".py",
   "mimetype": "text/x-python",
   "name": "python",
   "nbconvert_exporter": "python",
   "pygments_lexer": "ipython3",
   "version": "3.9.18"
  }
 },
 "nbformat": 4,
 "nbformat_minor": 5
}

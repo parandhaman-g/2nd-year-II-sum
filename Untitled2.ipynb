{
 "cells": [
  {
   "cell_type": "code",
   "execution_count": 2,
   "id": "144ef050-d343-4f65-a547-d03a24336edb",
   "metadata": {},
   "outputs": [],
   "source": [
    "import cv2 as cv\n",
    "import matplotlib.pyplot as plt\n",
    "%matplotlib inline"
   ]
  },
  {
   "cell_type": "code",
   "execution_count": 3,
   "id": "ba3472c2-2fb0-4321-9ada-4a60391ddf4d",
   "metadata": {},
   "outputs": [],
   "source": [
    "img1=cv.imread(\"‪C:/Users/admin/Pictures/cv/BMW M.jpg\")"
   ]
  },
  {
   "cell_type": "code",
   "execution_count": 4,
   "id": "4d0fdbb8-440d-4c32-8950-673d76dfef09",
   "metadata": {},
   "outputs": [],
   "source": [
    "img1"
   ]
  },
  {
   "cell_type": "code",
   "execution_count": 23,
   "id": "5d67b213-2d1e-4a9b-ba0e-f3b10d1e4afb",
   "metadata": {},
   "outputs": [],
   "source": [
    "img2=cv.imread(\"C:/Users/admin/Pictures/cv/BMW CYAN.webp\")"
   ]
  },
  {
   "cell_type": "code",
   "execution_count": 24,
   "id": "5f0e7a25-4fb8-477c-8a2b-6ea265879cd1",
   "metadata": {},
   "outputs": [],
   "source": [
    "img2"
   ]
  },
  {
   "cell_type": "code",
   "execution_count": 15,
   "id": "f9f3bb14-2c66-4156-909c-01f4776f3356",
   "metadata": {},
   "outputs": [
    {
     "ename": "error",
     "evalue": "OpenCV(4.9.0) D:\\a\\opencv-python\\opencv-python\\opencv\\modules\\imgproc\\src\\resize.cpp:4152: error: (-215:Assertion failed) !ssize.empty() in function 'cv::resize'\n",
     "output_type": "error",
     "traceback": [
      "\u001b[1;31m---------------------------------------------------------------------------\u001b[0m",
      "\u001b[1;31merror\u001b[0m                                     Traceback (most recent call last)",
      "Cell \u001b[1;32mIn[15], line 1\u001b[0m\n\u001b[1;32m----> 1\u001b[0m img1\u001b[38;5;241m=\u001b[39m\u001b[43mcv\u001b[49m\u001b[38;5;241;43m.\u001b[39;49m\u001b[43mresize\u001b[49m\u001b[43m(\u001b[49m\u001b[43mimg1\u001b[49m\u001b[43m,\u001b[49m\u001b[43m(\u001b[49m\u001b[38;5;241;43m240\u001b[39;49m\u001b[43m,\u001b[49m\u001b[38;5;241;43m140\u001b[39;49m\u001b[43m)\u001b[49m\u001b[43m)\u001b[49m\n\u001b[0;32m      2\u001b[0m img2\u001b[38;5;241m=\u001b[39mcv\u001b[38;5;241m.\u001b[39mresize(img2,(\u001b[38;5;241m240\u001b[39m,\u001b[38;5;241m240\u001b[39m))\n",
      "\u001b[1;31merror\u001b[0m: OpenCV(4.9.0) D:\\a\\opencv-python\\opencv-python\\opencv\\modules\\imgproc\\src\\resize.cpp:4152: error: (-215:Assertion failed) !ssize.empty() in function 'cv::resize'\n"
     ]
    }
   ],
   "source": [
    "img1=cv.resize(img1,(240,140))\n",
    "img2=cv.resize(img2,(240,240))"
   ]
  },
  {
   "cell_type": "markdown",
   "id": "232bc6ae-2b9f-4d77-8863-59fb2121b746",
   "metadata": {},
   "source": [
    "# CONVER TO GREY SCALE"
   ]
  },
  {
   "cell_type": "code",
   "execution_count": null,
   "id": "3bfe43c3-3c40-4aa0-962a-c803c369b52f",
   "metadata": {},
   "outputs": [],
   "source": [
    "img1=cv.cvtColor(img1,cv.COLOR_BAYER_BGR2GRAY)\n",
    "img2=cv.cvtColor(img2,cv.COLOR_BAYER_BGR2GRAY)"
   ]
  },
  {
   "cell_type": "markdown",
   "id": "6c9d4f57-c709-4eda-bc6c-07728327f07a",
   "metadata": {},
   "source": [
    "# SIFT"
   ]
  },
  {
   "cell_type": "code",
   "execution_count": 25,
   "id": "61759530-e23a-4771-a0c0-1c75aab0dc63",
   "metadata": {},
   "outputs": [
    {
     "ename": "error",
     "evalue": "OpenCV(4.9.0) D:\\a\\opencv-python\\opencv-python\\opencv\\modules\\features2d\\src\\sift.dispatch.cpp:512: error: (-5:Bad argument) image is empty or has incorrect depth (!=CV_8U) in function 'cv::SIFT_Impl::detectAndCompute'\n",
     "output_type": "error",
     "traceback": [
      "\u001b[1;31m---------------------------------------------------------------------------\u001b[0m",
      "\u001b[1;31merror\u001b[0m                                     Traceback (most recent call last)",
      "Cell \u001b[1;32mIn[25], line 2\u001b[0m\n\u001b[0;32m      1\u001b[0m sift\u001b[38;5;241m=\u001b[39mcv\u001b[38;5;241m.\u001b[39mSIFT_create()\n\u001b[1;32m----> 2\u001b[0m keypoints_1,descriptors_1\u001b[38;5;241m=\u001b[39m\u001b[43msift\u001b[49m\u001b[38;5;241;43m.\u001b[39;49m\u001b[43mdetectAndCompute\u001b[49m\u001b[43m(\u001b[49m\u001b[43mimg1\u001b[49m\u001b[43m,\u001b[49m\u001b[38;5;28;43;01mNone\u001b[39;49;00m\u001b[43m)\u001b[49m\n\u001b[0;32m      3\u001b[0m keypoints_2,descriptors_2\u001b[38;5;241m=\u001b[39msift\u001b[38;5;241m.\u001b[39mdetectAndCompute(img2,\u001b[38;5;28;01mNone\u001b[39;00m)\n",
      "\u001b[1;31merror\u001b[0m: OpenCV(4.9.0) D:\\a\\opencv-python\\opencv-python\\opencv\\modules\\features2d\\src\\sift.dispatch.cpp:512: error: (-5:Bad argument) image is empty or has incorrect depth (!=CV_8U) in function 'cv::SIFT_Impl::detectAndCompute'\n"
     ]
    }
   ],
   "source": [
    "sift=cv.SIFT_create()\n",
    "keypoints_1,descriptors_1=sift.detectAndCompute(img1,None)\n",
    "keypoints_2,descriptors_2=sift.detectAndCompute(img2,None)"
   ]
  },
  {
   "cell_type": "markdown",
   "id": "482c422a-65e7-4c8b-8e67-7e4c93049ecf",
   "metadata": {},
   "source": [
    "# FEATURE MATCHING"
   ]
  },
  {
   "cell_type": "code",
   "execution_count": null,
   "id": "6797fe64-7478-454d-b91c-52b430897de8",
   "metadata": {},
   "outputs": [],
   "source": [
    "bf=cv.BFMatcher(cv.NORM_L1,crossCheck=True)\n",
    "\n",
    "matches=bf.match(descriptors_1,descriptors_1)\n",
    "matches=sorted(matches,key=lambda x:x.distance)\n",
    "\n",
    "img3=cv.drawMatches(img1,keypoints_1,img2,keypoints_2,matches[:100],img2,flags=2)\n",
    "plt.imshow(img3),plt.show()"
   ]
  }
 ],
 "metadata": {
  "kernelspec": {
   "display_name": "Python 3 (ipykernel)",
   "language": "python",
   "name": "python3"
  },
  "language_info": {
   "codemirror_mode": {
    "name": "ipython",
    "version": 3
   },
   "file_extension": ".py",
   "mimetype": "text/x-python",
   "name": "python",
   "nbconvert_exporter": "python",
   "pygments_lexer": "ipython3",
   "version": "3.9.18"
  }
 },
 "nbformat": 4,
 "nbformat_minor": 5
}

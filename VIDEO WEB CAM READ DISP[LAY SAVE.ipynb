{
 "cells": [
  {
   "cell_type": "code",
   "execution_count": 1,
   "id": "431264ad-873e-45fc-9e7f-54f489af3dc2",
   "metadata": {},
   "outputs": [],
   "source": [
    "import cv2 as cv"
   ]
  },
  {
   "cell_type": "markdown",
   "id": "0c163afb-53e4-4662-89c7-85c68104f2f6",
   "metadata": {},
   "source": [
    "## WEBCAM CAPTURE"
   ]
  },
  {
   "cell_type": "code",
   "execution_count": 5,
   "id": "28f7b2a6-6d50-4ed5-9a04-32f630966a5a",
   "metadata": {},
   "outputs": [],
   "source": [
    "vid=cv.VideoCapture(\"C:/Users/admin/Downloads/qwerty.mp4\")"
   ]
  },
  {
   "cell_type": "markdown",
   "id": "fc6c5ceb-f95d-4890-b865-8be6616c0166",
   "metadata": {},
   "source": [
    "## webcam display"
   ]
  },
  {
   "cell_type": "code",
   "execution_count": 6,
   "id": "6b9a940d-3e93-4c8f-beda-fb928148b94b",
   "metadata": {},
   "outputs": [
    {
     "ename": "error",
     "evalue": "OpenCV(4.9.0) D:\\a\\opencv-python\\opencv-python\\opencv\\modules\\imgproc\\src\\color.cpp:196: error: (-215:Assertion failed) !_src.empty() in function 'cv::cvtColor'\n",
     "output_type": "error",
     "traceback": [
      "\u001b[1;31m---------------------------------------------------------------------------\u001b[0m",
      "\u001b[1;31merror\u001b[0m                                     Traceback (most recent call last)",
      "Cell \u001b[1;32mIn[6], line 3\u001b[0m\n\u001b[0;32m      1\u001b[0m \u001b[38;5;28;01mwhile\u001b[39;00m \u001b[38;5;28;01mTrue\u001b[39;00m:\n\u001b[0;32m      2\u001b[0m     ret,frame\u001b[38;5;241m=\u001b[39mvid\u001b[38;5;241m.\u001b[39mread()\n\u001b[1;32m----> 3\u001b[0m     grayframe \u001b[38;5;241m=\u001b[39m\u001b[43mcv\u001b[49m\u001b[38;5;241;43m.\u001b[39;49m\u001b[43mcvtColor\u001b[49m\u001b[43m(\u001b[49m\u001b[43mframe\u001b[49m\u001b[43m,\u001b[49m\u001b[43mcv\u001b[49m\u001b[38;5;241;43m.\u001b[39;49m\u001b[43mCOLOR_BGR2GRAY\u001b[49m\u001b[43m)\u001b[49m\n\u001b[0;32m      4\u001b[0m     cv\u001b[38;5;241m.\u001b[39mimshow(\u001b[38;5;124m'\u001b[39m\u001b[38;5;124morign\u001b[39m\u001b[38;5;124m'\u001b[39m,frame)\n\u001b[0;32m      5\u001b[0m     cv\u001b[38;5;241m.\u001b[39mimshow(\u001b[38;5;124m'\u001b[39m\u001b[38;5;124mgray\u001b[39m\u001b[38;5;124m'\u001b[39m,grayframe)\n",
      "\u001b[1;31merror\u001b[0m: OpenCV(4.9.0) D:\\a\\opencv-python\\opencv-python\\opencv\\modules\\imgproc\\src\\color.cpp:196: error: (-215:Assertion failed) !_src.empty() in function 'cv::cvtColor'\n"
     ]
    }
   ],
   "source": [
    "while True:\n",
    "    ret,frame=vid.read()\n",
    "    grayframe =cv.cvtColor(frame,cv.COLOR_BGR2GRAY)\n",
    "    cv.imshow('orign',frame)\n",
    "    cv.imshow('gray',grayframe)\n",
    "    if cv.waitKey(1) & 0xFF == ord('q'):\n",
    "        break\n",
    "\n",
    "mp4.release()\n",
    "cv.destroyAllWindows()"
   ]
  },
  {
   "cell_type": "markdown",
   "id": "2c7d9611-db0b-40d3-9e0e-fc2376ddc742",
   "metadata": {},
   "source": [
    "### saving video"
   ]
  },
  {
   "cell_type": "code",
   "execution_count": 23,
   "id": "82182600-341c-4c0c-b4f9-556f4b84791a",
   "metadata": {},
   "outputs": [],
   "source": [
    "vid=cv.VideoCapture(\"C:/Users/admin/Downloads/qwerty.mp4\")"
   ]
  },
  {
   "cell_type": "markdown",
   "id": "7e8df877-8851-493b-a368-2ddc5282d77d",
   "metadata": {},
   "source": [
    "### defining video"
   ]
  },
  {
   "cell_type": "code",
   "execution_count": 24,
   "id": "ba0e3d04-9828-4229-a87f-620c4cb804a5",
   "metadata": {},
   "outputs": [],
   "source": [
    "fourcc=cv.VideoWriter_fourcc(*'mp4v')"
   ]
  },
  {
   "cell_type": "markdown",
   "id": "969d314c-6f45-4706-abbb-32bec74744ff",
   "metadata": {},
   "source": [
    "### video writer"
   ]
  },
  {
   "cell_type": "code",
   "execution_count": 25,
   "id": "91bb8dd5-56b3-40bc-a4c5-3eeab5b6e02d",
   "metadata": {},
   "outputs": [],
   "source": [
    "wrt=cv.VideoWriter(\"C:/Users/admin/Pictures/cv/pcv/me1.m\",fourcc,50.0,(640,400))\n",
    "while(vid.isOpened()):\n",
    "    ret,frame=vid.read()\n",
    "    grayframe =cv.cvtColor(frame,cv.COLOR_BGR2GRAY)\n",
    "    cv.imshow('orign',frame)\n",
    "    cv.imshow('gray',grayframe)\n",
    "    if cv.waitKey(1) & 0xFF == ord('q'):\n",
    "        break\n",
    "\n",
    "vid.release()\n",
    "cv.destroyAllWindows()"
   ]
  },
  {
   "cell_type": "code",
   "execution_count": null,
   "id": "9d7614e7-7499-4ec3-8401-9eedfe8fca16",
   "metadata": {},
   "outputs": [],
   "source": []
  }
 ],
 "metadata": {
  "kernelspec": {
   "display_name": "Python 3 (ipykernel)",
   "language": "python",
   "name": "python3"
  },
  "language_info": {
   "codemirror_mode": {
    "name": "ipython",
    "version": 3
   },
   "file_extension": ".py",
   "mimetype": "text/x-python",
   "name": "python",
   "nbconvert_exporter": "python",
   "pygments_lexer": "ipython3",
   "version": "3.9.18"
  }
 },
 "nbformat": 4,
 "nbformat_minor": 5
}

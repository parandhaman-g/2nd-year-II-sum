{
 "cells": [
  {
   "cell_type": "code",
   "execution_count": 1,
   "id": "9b6f80ca-7bd2-4447-8669-ba0391159491",
   "metadata": {},
   "outputs": [],
   "source": [
    "import cv2 as cv\n",
    "import numpy as np"
   ]
  },
  {
   "cell_type": "code",
   "execution_count": 2,
   "id": "8cab64a8-ec48-4474-a23b-452e09636883",
   "metadata": {},
   "outputs": [],
   "source": [
    "img=cv.imread(\"C:/Users/admin/Pictures/cv/butterfly1.jfif\")"
   ]
  },
  {
   "cell_type": "code",
   "execution_count": 3,
   "id": "c44b638b-c7f6-4664-b5f2-08161f3e51e8",
   "metadata": {},
   "outputs": [],
   "source": [
    "height,width=img.shape[:2]\n",
    "center=(height/2,width/2)"
   ]
  },
  {
   "cell_type": "markdown",
   "id": "be968876-f9dd-422e-97a9-0fa89456bb69",
   "metadata": {},
   "source": [
    "#### ROTATION"
   ]
  },
  {
   "cell_type": "code",
   "execution_count": 4,
   "id": "ed30c4b8-b041-4aff-9001-d4b6b6010237",
   "metadata": {},
   "outputs": [],
   "source": [
    "rotation=cv.getRotationMatrix2D(center=center,angle=18,scale=1)\n",
    "rotatedimage=cv.warpAffine(src=img,M=rotation,dsize=(width,height))"
   ]
  },
  {
   "cell_type": "markdown",
   "id": "663b6828-cdba-45f7-93d0-d7ec605fcaea",
   "metadata": {},
   "source": [
    "#### TRNSLATION"
   ]
  },
  {
   "cell_type": "code",
   "execution_count": 28,
   "id": "027331a0-e0d6-4f53-9ea5-d87c95c9bb2d",
   "metadata": {},
   "outputs": [],
   "source": [
    "tx,ty=height/2,width/2\n",
    "Translation_matrix=np.array([[1,0,tx],[0,1,ty]])"
   ]
  },
  {
   "cell_type": "code",
   "execution_count": 29,
   "id": "86ef157c-ad69-430e-9efc-559a2c2d52f0",
   "metadata": {},
   "outputs": [],
   "source": [
    "TRANSLATEDIMG=cv.warpAffine(src=img,M=Translation_matrix,dsize=(height,width))"
   ]
  },
  {
   "cell_type": "code",
   "execution_count": 30,
   "id": "5b70f2c1-f836-4fac-b536-4ac21d25a2a8",
   "metadata": {},
   "outputs": [
    {
     "data": {
      "text/plain": [
       "<function destroyAllWindows>"
      ]
     },
     "execution_count": 30,
     "metadata": {},
     "output_type": "execute_result"
    }
   ],
   "source": [
    "cv.imshow(\"BUTTERFLY\",img)\n",
    "cv.imshow(\"ROTATEDBUTTERFLY\",rotatedimage)\n",
    "cv.imshow(\"TRANSLATEDBUTTERFLY\",TRANSLATEDIMG)\n",
    "cv.waitKey(0)\n",
    "cv.destroyAllWindows\n"
   ]
  },
  {
   "cell_type": "code",
   "execution_count": null,
   "id": "bb88c8ad-a0a6-488c-9083-24a79225d97f",
   "metadata": {},
   "outputs": [],
   "source": []
  },
  {
   "cell_type": "code",
   "execution_count": null,
   "id": "e6dc0ad5-3925-4392-b750-0031314e2865",
   "metadata": {},
   "outputs": [],
   "source": []
  }
 ],
 "metadata": {
  "kernelspec": {
   "display_name": "Python 3 (ipykernel)",
   "language": "python",
   "name": "python3"
  },
  "language_info": {
   "codemirror_mode": {
    "name": "ipython",
    "version": 3
   },
   "file_extension": ".py",
   "mimetype": "text/x-python",
   "name": "python",
   "nbconvert_exporter": "python",
   "pygments_lexer": "ipython3",
   "version": "3.9.18"
  }
 },
 "nbformat": 4,
 "nbformat_minor": 5
}

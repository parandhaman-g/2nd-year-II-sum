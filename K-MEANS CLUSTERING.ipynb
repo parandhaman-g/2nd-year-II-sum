{
 "cells": [
  {
   "cell_type": "code",
   "execution_count": 1,
   "id": "004650de-0b64-48e2-8a20-e755313e048b",
   "metadata": {},
   "outputs": [],
   "source": [
    "import cv2 as cv\n",
    "import numpy as np"
   ]
  },
  {
   "cell_type": "code",
   "execution_count": 2,
   "id": "c83d61e9-0fb4-43d4-b16c-577d430a8e3a",
   "metadata": {},
   "outputs": [],
   "source": [
    "img=cv.imread(\"C:/Users/admin/Pictures/cv/butterfly.jfif\")"
   ]
  },
  {
   "cell_type": "code",
   "execution_count": 3,
   "id": "39a229a6-2494-48b3-bdf8-dddc9f3526f7",
   "metadata": {},
   "outputs": [],
   "source": [
    "convimg=cv.cvtColor(img,cv.COLOR_BGR2RGB)"
   ]
  },
  {
   "cell_type": "markdown",
   "id": "e5c8b0e3-8641-4fb1-afb6-a46096e09b7c",
   "metadata": {},
   "source": [
    "# RESHAPE"
   ]
  },
  {
   "cell_type": "code",
   "execution_count": 4,
   "id": "94369494-db5a-489a-916b-7c2670d111e6",
   "metadata": {},
   "outputs": [
    {
     "data": {
      "text/plain": [
       "array([[ 5, 58, 30, ...,  0, 41, 27],\n",
       "       [ 0, 32, 25, ...,  2, 26, 30],\n",
       "       [ 4, 25, 30, ...,  4, 25, 28],\n",
       "       ...,\n",
       "       [14, 61, 43, ..., 44, 52, 39],\n",
       "       [52, 57, 37, ..., 15, 36,  0],\n",
       "       [18, 44,  9, ...,  7, 48, 30]], dtype=uint8)"
      ]
     },
     "execution_count": 4,
     "metadata": {},
     "output_type": "execute_result"
    }
   ],
   "source": [
    "resize=convimg.reshape((-5,15))\n",
    "resize"
   ]
  },
  {
   "cell_type": "code",
   "execution_count": 5,
   "id": "cb594cda-d1ff-47c3-9f06-9b1e4ebfb0b0",
   "metadata": {},
   "outputs": [
    {
     "data": {
      "text/plain": [
       "array([[ 5., 58., 30., ...,  0., 41., 27.],\n",
       "       [ 0., 32., 25., ...,  2., 26., 30.],\n",
       "       [ 4., 25., 30., ...,  4., 25., 28.],\n",
       "       ...,\n",
       "       [14., 61., 43., ..., 44., 52., 39.],\n",
       "       [52., 57., 37., ..., 15., 36.,  0.],\n",
       "       [18., 44.,  9., ...,  7., 48., 30.]], dtype=float32)"
      ]
     },
     "execution_count": 5,
     "metadata": {},
     "output_type": "execute_result"
    }
   ],
   "source": [
    "vec=np.float32(resize)\n",
    "vec"
   ]
  },
  {
   "cell_type": "markdown",
   "id": "ee0add89-3f97-482d-b30c-dd6a303d6cab",
   "metadata": {},
   "source": [
    "## ITERATION TERMINATION CRITERIA"
   ]
  },
  {
   "cell_type": "code",
   "execution_count": 6,
   "id": "6c552c23-05ac-442b-a2a2-b11a0ce5755c",
   "metadata": {},
   "outputs": [],
   "source": [
    "CRITERIA1=(cv.TERM_CRITERIA_EPS+cv.TERM_CRITERIA_MAX_ITER,100,1)"
   ]
  },
  {
   "cell_type": "markdown",
   "id": "254659b7-0850-482c-b7f9-f111cb00351d",
   "metadata": {},
   "source": [
    "##### CLUSTER CONDITION"
   ]
  },
  {
   "cell_type": "code",
   "execution_count": 7,
   "id": "f854fc63-5979-41ec-a9ee-765a8002ef4c",
   "metadata": {},
   "outputs": [],
   "source": [
    "k=3\n",
    "attempts=100"
   ]
  },
  {
   "cell_type": "markdown",
   "id": "39f574ff-6712-4778-ad72-25ef6e9e65b0",
   "metadata": {},
   "source": [
    "##### K_MEANS CLUSTERING"
   ]
  },
  {
   "cell_type": "code",
   "execution_count": 8,
   "id": "37d5b5b7-5d6c-43a2-95f3-b592e5c4507b",
   "metadata": {},
   "outputs": [],
   "source": [
    "compactness,label,centre=cv.kmeans(vec,k,None,CRITERIA1,attempts,cv.KMEANS_PP_CENTERS)"
   ]
  },
  {
   "cell_type": "raw",
   "id": "b461aaa0-d243-4f6a-8f91-636d8c835a39",
   "metadata": {},
   "source": [
    "label\n"
   ]
  },
  {
   "cell_type": "code",
   "execution_count": 9,
   "id": "20e585a5-83d6-4f79-9860-27cbbd08ff88",
   "metadata": {},
   "outputs": [
    {
     "data": {
      "text/plain": [
       "array([[ 11,  70,  27,   8,  67,  27,   7,  66,  27,   8,  67,  28,  11,\n",
       "         70,  28],\n",
       "       [ 71, 131,  17,  71, 131,  16,  70, 131,  15,  72, 132,  16,  72,\n",
       "        132,  17],\n",
       "       [159, 178,  31, 166, 184,  33, 168, 185,  33, 165, 183,  32, 158,\n",
       "        177,  30]], dtype=uint8)"
      ]
     },
     "execution_count": 9,
     "metadata": {},
     "output_type": "execute_result"
    }
   ],
   "source": [
    "center=np.uint8(centre)\n",
    "center"
   ]
  },
  {
   "cell_type": "markdown",
   "id": "bf0b42c3-3572-499b-b434-ca117cdd6971",
   "metadata": {},
   "source": [
    "#### FLATTERING AND RESHAPE"
   ]
  },
  {
   "cell_type": "code",
   "execution_count": 10,
   "id": "985947e4-2bf1-4f3e-8204-ff7dfe3755c2",
   "metadata": {
    "scrolled": true
   },
   "outputs": [
    {
     "data": {
      "text/plain": [
       "array([[11, 70, 27, ..., 11, 70, 28],\n",
       "       [11, 70, 27, ..., 11, 70, 28],\n",
       "       [11, 70, 27, ..., 11, 70, 28],\n",
       "       ...,\n",
       "       [11, 70, 27, ..., 11, 70, 28],\n",
       "       [11, 70, 27, ..., 11, 70, 28],\n",
       "       [11, 70, 27, ..., 11, 70, 28]], dtype=uint8)"
      ]
     },
     "execution_count": 10,
     "metadata": {},
     "output_type": "execute_result"
    }
   ],
   "source": [
    "res=center[label.flatten()]\n",
    "res_img=res.reshape((resize.shape))\n",
    "res_img"
   ]
  },
  {
   "cell_type": "code",
   "execution_count": 11,
   "id": "70a15458-03d7-4baf-b584-654604be6cd7",
   "metadata": {},
   "outputs": [
    {
     "data": {
      "text/plain": [
       "<function destroyAllWindows>"
      ]
     },
     "execution_count": 11,
     "metadata": {},
     "output_type": "execute_result"
    }
   ],
   "source": [
    "cv.imshow(\"w1\",img)\n",
    "cv.imshow(\"w2\",res_img)\n",
    "cv.waitKey(0)\n",
    "cv.destroyAllWindows"
   ]
  },
  {
   "cell_type": "code",
   "execution_count": 12,
   "id": "008f3d5b-7dfc-41b0-8ede-555b4f7d56aa",
   "metadata": {},
   "outputs": [],
   "source": [
    "segmented_image=cv.pyrMeanShiftFiltering(img,50,40)"
   ]
  },
  {
   "cell_type": "code",
   "execution_count": 13,
   "id": "29bd9bd6-ac50-4a36-8c23-3c57971607c1",
   "metadata": {},
   "outputs": [
    {
     "data": {
      "text/plain": [
       "<function destroyAllWindows>"
      ]
     },
     "execution_count": 13,
     "metadata": {},
     "output_type": "execute_result"
    }
   ],
   "source": [
    "cv.imshow(\"w1\",img)\n",
    "cv.imshow(\"w3\",segmented_image)\n",
    "cv.waitKey(0)\n",
    "cv.destroyAllWindows"
   ]
  },
  {
   "cell_type": "code",
   "execution_count": null,
   "id": "26a8885f-9d6b-45b7-9f86-69425501ba3e",
   "metadata": {},
   "outputs": [],
   "source": []
  },
  {
   "cell_type": "code",
   "execution_count": null,
   "id": "f17a053a-96fb-4fc9-9739-e06362887f6c",
   "metadata": {},
   "outputs": [],
   "source": []
  }
 ],
 "metadata": {
  "kernelspec": {
   "display_name": "Python 3 (ipykernel)",
   "language": "python",
   "name": "python3"
  },
  "language_info": {
   "codemirror_mode": {
    "name": "ipython",
    "version": 3
   },
   "file_extension": ".py",
   "mimetype": "text/x-python",
   "name": "python",
   "nbconvert_exporter": "python",
   "pygments_lexer": "ipython3",
   "version": "3.9.18"
  }
 },
 "nbformat": 4,
 "nbformat_minor": 5
}

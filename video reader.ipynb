{
 "cells": [
  {
   "cell_type": "markdown",
   "id": "84f0c19b-f460-487a-889a-b3ba7cc3e10b",
   "metadata": {},
   "source": [
    "#### IMPORTING LIBRARIES"
   ]
  },
  {
   "cell_type": "code",
   "execution_count": 12,
   "id": "1477a50e-5d78-4a28-94c4-ed1fa4a15747",
   "metadata": {},
   "outputs": [],
   "source": [
    "import cv2 as cv\n",
    "import numpy as np"
   ]
  },
  {
   "cell_type": "markdown",
   "id": "cb92125f-2c3b-4319-b521-2b20cd323e27",
   "metadata": {},
   "source": [
    "#### VIDEO READING"
   ]
  },
  {
   "cell_type": "code",
   "execution_count": null,
   "id": "b5f8afa3-5e11-40d0-b204-0794c32765cc",
   "metadata": {},
   "outputs": [],
   "source": []
  },
  {
   "cell_type": "code",
   "execution_count": 17,
   "id": "6afc069f-c6b5-4e9d-9c93-7c7c62ea54c4",
   "metadata": {},
   "outputs": [],
   "source": [
    "mp4=cv.VideoCapture(\"C:/Users/admin/Downloads/qwerty.mp4\")"
   ]
  },
  {
   "cell_type": "code",
   "execution_count": 14,
   "id": "36dc8056-6a4a-41a0-bacf-4dc127c85c74",
   "metadata": {},
   "outputs": [
    {
     "data": {
      "text/plain": [
       "< cv2.VideoCapture 000001F906BDAD10>"
      ]
     },
     "execution_count": 14,
     "metadata": {},
     "output_type": "execute_result"
    }
   ],
   "source": [
    "mp4"
   ]
  },
  {
   "cell_type": "markdown",
   "id": "050c751d-0562-47ce-9926-5d1eeafb035e",
   "metadata": {},
   "source": [
    "#### DISPLAYING THE VIDEO"
   ]
  },
  {
   "cell_type": "code",
   "execution_count": 15,
   "id": "505287cb-96f0-4d3c-895c-6c19e9057563",
   "metadata": {},
   "outputs": [],
   "source": [
    "while True:\n",
    "    ret,frame=mp4.read()\n",
    "    if not ret:\n",
    "        break\n",
    "   \n",
    "    cv.imshow('orign',frame)\n",
    "\n",
    "    if cv.waitKey(1) & 0xFF == ord('q'):\n",
    "        break\n",
    "\n",
    "mp4.release()\n",
    "cv.destroyAllWindows()"
   ]
  },
  {
   "cell_type": "code",
   "execution_count": 18,
   "id": "ffbaacd7-4192-470b-baa4-4b12ab04d187",
   "metadata": {},
   "outputs": [
    {
     "ename": "error",
     "evalue": "OpenCV(4.9.0) D:\\a\\opencv-python\\opencv-python\\opencv\\modules\\imgproc\\src\\color.cpp:196: error: (-215:Assertion failed) !_src.empty() in function 'cv::cvtColor'\n",
     "output_type": "error",
     "traceback": [
      "\u001b[1;31m---------------------------------------------------------------------------\u001b[0m",
      "\u001b[1;31merror\u001b[0m                                     Traceback (most recent call last)",
      "Cell \u001b[1;32mIn[18], line 3\u001b[0m\n\u001b[0;32m      1\u001b[0m \u001b[38;5;28;01mwhile\u001b[39;00m \u001b[38;5;28;01mTrue\u001b[39;00m:\n\u001b[0;32m      2\u001b[0m     ret,frame\u001b[38;5;241m=\u001b[39mmp4\u001b[38;5;241m.\u001b[39mread()\n\u001b[1;32m----> 3\u001b[0m     grayframe \u001b[38;5;241m=\u001b[39m\u001b[43mcv\u001b[49m\u001b[38;5;241;43m.\u001b[39;49m\u001b[43mcvtColor\u001b[49m\u001b[43m(\u001b[49m\u001b[43mframe\u001b[49m\u001b[43m,\u001b[49m\u001b[43mcv\u001b[49m\u001b[38;5;241;43m.\u001b[39;49m\u001b[43mCOLOR_BGR2GRAY\u001b[49m\u001b[43m)\u001b[49m\n\u001b[0;32m      4\u001b[0m     \u001b[38;5;28;01mif\u001b[39;00m \u001b[38;5;129;01mnot\u001b[39;00m ret:\n\u001b[0;32m      5\u001b[0m         \u001b[38;5;28;01mbreak\u001b[39;00m\n",
      "\u001b[1;31merror\u001b[0m: OpenCV(4.9.0) D:\\a\\opencv-python\\opencv-python\\opencv\\modules\\imgproc\\src\\color.cpp:196: error: (-215:Assertion failed) !_src.empty() in function 'cv::cvtColor'\n"
     ]
    }
   ],
   "source": [
    "while True:\n",
    "    ret,frame=mp4.read()\n",
    "    grayframe =cv.cvtColor(frame,cv.COLOR_BGR2GRAY)\n",
    "    if not ret:\n",
    "        break\n",
    "   \n",
    "    cv.imshow('orign',frame)\n",
    "    cv.imshow('gray',grayframe)\n",
    "\n",
    "    if cv.waitKey(1) & 0xFF == ord('q'):\n",
    "        break\n",
    "\n",
    "mp4.release()\n",
    "cv.destroyAllWindows()"
   ]
  },
  {
   "cell_type": "code",
   "execution_count": null,
   "id": "357137cb-efea-4016-8768-eaaabf0df687",
   "metadata": {},
   "outputs": [],
   "source": []
  }
 ],
 "metadata": {
  "kernelspec": {
   "display_name": "Python 3 (ipykernel)",
   "language": "python",
   "name": "python3"
  },
  "language_info": {
   "codemirror_mode": {
    "name": "ipython",
    "version": 3
   },
   "file_extension": ".py",
   "mimetype": "text/x-python",
   "name": "python",
   "nbconvert_exporter": "python",
   "pygments_lexer": "ipython3",
   "version": "3.9.18"
  }
 },
 "nbformat": 4,
 "nbformat_minor": 5
}
